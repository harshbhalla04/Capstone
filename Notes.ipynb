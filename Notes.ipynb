{
 "cells": [
  {
   "cell_type": "markdown",
   "id": "f293934a",
   "metadata": {},
   "source": [
    "# STP Framework"
   ]
  },
  {
   "cell_type": "markdown",
   "id": "92ca133d",
   "metadata": {},
   "source": [
    "* Segmentation\n",
    "* Targeting\n",
    "* Positioning"
   ]
  },
  {
   "cell_type": "markdown",
   "id": "19fe5311",
   "metadata": {},
   "source": [
    "## 1. Segmentation\n",
    "* Dividing a population into group with similar characteristics\n",
    "* For Example:- We have chocolate and not everyone likes the same chocolate, we can divide the group on the basis of gender, age, income"
   ]
  },
  {
   "cell_type": "markdown",
   "id": "660f071d",
   "metadata": {},
   "source": [
    "## Segmentatin on the Basis of: Cousumer data\n",
    "* Demographic\n",
    "* Geographic\n",
    "* Psychographic\n",
    "* Behavioral"
   ]
  },
  {
   "cell_type": "markdown",
   "id": "3f8d6740",
   "metadata": {},
   "source": [
    "## Segmentatin on the Basis of: Behavioral\n",
    "* For example: Historic Data :- Like Purchase Frequency, Time of purchase, Purchase quantity, product ratings"
   ]
  },
  {
   "cell_type": "markdown",
   "id": "08e3e9a0",
   "metadata": {},
   "source": [
    "## 2. Targeting\n",
    "* Evaluating potential profits from segments and deciding which segments to focus on\n",
    "* Consideration Factors :- 1. Segment size, 2. Expected growth 3. Competitors's offerings"
   ]
  },
  {
   "cell_type": "markdown",
   "id": "3e9a69ec",
   "metadata": {},
   "source": [
    "## 3. Positioning\n",
    "* What product would have the closest characteristics to customer's"
   ]
  },
  {
   "cell_type": "markdown",
   "id": "649a48c6",
   "metadata": {},
   "source": [
    "##### Modeling techniques can be appied  to both physical and online stores\n",
    "##### There are some major dif b/w physical and online stores\n",
    "* KYC\n",
    "* Purchase probability\n",
    "* Brand choice probability\n",
    "* Purchase quantity"
   ]
  },
  {
   "cell_type": "markdown",
   "id": "db14913b",
   "metadata": {},
   "source": [
    "## Price Elasticity\n",
    "* Price elasticity measures how a variable of interest changes when the price changes.\n",
    "\n",
    "**Own Price Elasticity**\n",
    "* Price elasticity with respect to the same product\n",
    "\n",
    "**Cross Price Elasticity**\n",
    "* Price elasticity with respect to another product"
   ]
  },
  {
   "cell_type": "markdown",
   "id": "aa9f450d",
   "metadata": {},
   "source": [
    "Revenue = Price X Units sold\n",
    "Price Elasticity = % Change in economic outcome of interest (Unit Sold)/ 1% change in price"
   ]
  },
  {
   "cell_type": "markdown",
   "id": "d050eaa0",
   "metadata": {},
   "source": [
    "#### We will lock at...\n",
    "* Price elasticity of Purchase probability\n",
    "* Price elasticity of Brand choice probability\n",
    "* Price elasticity of Purchase quantity"
   ]
  },
  {
   "cell_type": "markdown",
   "id": "46799a59",
   "metadata": {},
   "source": [
    "#### Price elasticity of Purchase probability\n",
    "* Quantifies the change in probability of purchase of a product with a given change in its price\n",
    "* We take the average of all cold drink price. as the avg price increase purchase probability decrease"
   ]
  },
  {
   "cell_type": "markdown",
   "id": "a7b9e865",
   "metadata": {},
   "source": [
    "##### Price elasticity of Brand choice probability\n",
    "* Quantifies the change in probability of purchase of a product with a given change in a competitor brand’s price\n",
    "\n",
    "* How much the brand choice probility of our brand would increase with a one percent increase in the price of a competing brand"
   ]
  },
  {
   "cell_type": "markdown",
   "id": "036b3c58",
   "metadata": {},
   "source": [
    "##### Price elasticity of Purchase quantity\n",
    "* Quantifies the change in purchase quantity of a product with a given change in its price\n",
    "\n",
    "* Price increase purchase quantity decrease"
   ]
  },
  {
   "cell_type": "code",
   "execution_count": null,
   "id": "9e756118",
   "metadata": {},
   "outputs": [],
   "source": []
  },
  {
   "cell_type": "code",
   "execution_count": null,
   "id": "444944d3",
   "metadata": {},
   "outputs": [],
   "source": []
  },
  {
   "cell_type": "code",
   "execution_count": null,
   "id": "ad44047e",
   "metadata": {},
   "outputs": [],
   "source": []
  },
  {
   "cell_type": "code",
   "execution_count": null,
   "id": "afa1c2d6",
   "metadata": {},
   "outputs": [],
   "source": []
  },
  {
   "cell_type": "code",
   "execution_count": null,
   "id": "28460c99",
   "metadata": {},
   "outputs": [],
   "source": []
  },
  {
   "cell_type": "code",
   "execution_count": null,
   "id": "4ac6ca42",
   "metadata": {},
   "outputs": [],
   "source": []
  },
  {
   "cell_type": "code",
   "execution_count": null,
   "id": "c7df0abe",
   "metadata": {},
   "outputs": [],
   "source": []
  },
  {
   "cell_type": "code",
   "execution_count": null,
   "id": "86aaa3b1",
   "metadata": {},
   "outputs": [],
   "source": []
  },
  {
   "cell_type": "code",
   "execution_count": null,
   "id": "10b31d1f",
   "metadata": {},
   "outputs": [],
   "source": []
  },
  {
   "cell_type": "code",
   "execution_count": null,
   "id": "098e943f",
   "metadata": {},
   "outputs": [],
   "source": []
  },
  {
   "cell_type": "code",
   "execution_count": null,
   "id": "b28d6fdb",
   "metadata": {},
   "outputs": [],
   "source": []
  },
  {
   "cell_type": "code",
   "execution_count": null,
   "id": "fa5d3cf6",
   "metadata": {},
   "outputs": [],
   "source": []
  },
  {
   "cell_type": "code",
   "execution_count": null,
   "id": "28b3866b",
   "metadata": {},
   "outputs": [],
   "source": []
  },
  {
   "cell_type": "code",
   "execution_count": null,
   "id": "46baf051",
   "metadata": {},
   "outputs": [],
   "source": []
  },
  {
   "cell_type": "code",
   "execution_count": null,
   "id": "151d8933",
   "metadata": {},
   "outputs": [],
   "source": []
  },
  {
   "cell_type": "code",
   "execution_count": null,
   "id": "c2d5ee16",
   "metadata": {},
   "outputs": [],
   "source": []
  },
  {
   "cell_type": "code",
   "execution_count": null,
   "id": "42d30508",
   "metadata": {},
   "outputs": [],
   "source": []
  },
  {
   "cell_type": "code",
   "execution_count": null,
   "id": "28ffd3a9",
   "metadata": {},
   "outputs": [],
   "source": []
  },
  {
   "cell_type": "code",
   "execution_count": null,
   "id": "d1c38d02",
   "metadata": {},
   "outputs": [],
   "source": []
  },
  {
   "cell_type": "code",
   "execution_count": null,
   "id": "32e0714d",
   "metadata": {},
   "outputs": [],
   "source": []
  },
  {
   "cell_type": "code",
   "execution_count": null,
   "id": "b1c1f205",
   "metadata": {},
   "outputs": [],
   "source": []
  },
  {
   "cell_type": "code",
   "execution_count": null,
   "id": "2d0cf433",
   "metadata": {},
   "outputs": [],
   "source": []
  },
  {
   "cell_type": "code",
   "execution_count": null,
   "id": "06fc3f67",
   "metadata": {},
   "outputs": [],
   "source": []
  },
  {
   "cell_type": "code",
   "execution_count": null,
   "id": "0163acc8",
   "metadata": {},
   "outputs": [],
   "source": []
  },
  {
   "cell_type": "code",
   "execution_count": null,
   "id": "4682311f",
   "metadata": {},
   "outputs": [],
   "source": []
  },
  {
   "cell_type": "code",
   "execution_count": null,
   "id": "1c65a023",
   "metadata": {},
   "outputs": [],
   "source": []
  },
  {
   "cell_type": "code",
   "execution_count": null,
   "id": "1326bdd8",
   "metadata": {},
   "outputs": [],
   "source": []
  },
  {
   "cell_type": "code",
   "execution_count": null,
   "id": "a4d645e6",
   "metadata": {},
   "outputs": [],
   "source": []
  },
  {
   "cell_type": "code",
   "execution_count": null,
   "id": "c1484e47",
   "metadata": {},
   "outputs": [],
   "source": []
  },
  {
   "cell_type": "code",
   "execution_count": null,
   "id": "745094b4",
   "metadata": {},
   "outputs": [],
   "source": []
  },
  {
   "cell_type": "code",
   "execution_count": null,
   "id": "379e3123",
   "metadata": {},
   "outputs": [],
   "source": []
  },
  {
   "cell_type": "code",
   "execution_count": null,
   "id": "92c8cd3a",
   "metadata": {},
   "outputs": [],
   "source": []
  },
  {
   "cell_type": "code",
   "execution_count": null,
   "id": "d9635067",
   "metadata": {},
   "outputs": [],
   "source": []
  },
  {
   "cell_type": "code",
   "execution_count": null,
   "id": "5e4b2ae6",
   "metadata": {},
   "outputs": [],
   "source": []
  }
 ],
 "metadata": {
  "kernelspec": {
   "display_name": "Python 3 (ipykernel)",
   "language": "python",
   "name": "python3"
  },
  "language_info": {
   "codemirror_mode": {
    "name": "ipython",
    "version": 3
   },
   "file_extension": ".py",
   "mimetype": "text/x-python",
   "name": "python",
   "nbconvert_exporter": "python",
   "pygments_lexer": "ipython3",
   "version": "3.11.5"
  }
 },
 "nbformat": 4,
 "nbformat_minor": 5
}
